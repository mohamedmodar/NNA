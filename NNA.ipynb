{
 "cells": [
  {
   "cell_type": "code",
   "execution_count": 1,
   "id": "69d3c8f2",
   "metadata": {},
   "outputs": [],
   "source": [
    "import numpy as np"
   ]
  },
  {
   "cell_type": "code",
   "execution_count": null,
   "id": "8c41381e",
   "metadata": {},
   "outputs": [],
   "source": [
    "#assign input values"
   ]
  },
  {
   "cell_type": "code",
   "execution_count": 15,
   "id": "ab5c5e29",
   "metadata": {},
   "outputs": [
    {
     "data": {
      "text/plain": [
       "array([[0, 0],\n",
       "       [0, 1],\n",
       "       [1, 1],\n",
       "       [1, 0]])"
      ]
     },
     "execution_count": 15,
     "metadata": {},
     "output_type": "execute_result"
    }
   ],
   "source": [
    "input_value = np.array([[0,0],[0,1],[1,1],[1,0]])\n",
    "input_value.shape\n",
    "input_value"
   ]
  },
  {
   "cell_type": "code",
   "execution_count": 6,
   "id": "7e393ca5",
   "metadata": {},
   "outputs": [],
   "source": [
    "#assign putput values"
   ]
  },
  {
   "cell_type": "code",
   "execution_count": 23,
   "id": "eb21559f",
   "metadata": {},
   "outputs": [
    {
     "data": {
      "text/plain": [
       "array([[0],\n",
       "       [1],\n",
       "       [1],\n",
       "       [0]])"
      ]
     },
     "execution_count": 23,
     "metadata": {},
     "output_type": "execute_result"
    }
   ],
   "source": [
    "output = np.array([[0,1,1,0]])\n",
    "output = output.reshape(4,1)\n",
    "output"
   ]
  },
  {
   "cell_type": "code",
   "execution_count": 17,
   "id": "13c2a4e6",
   "metadata": {},
   "outputs": [],
   "source": [
    "#assign weights"
   ]
  },
  {
   "cell_type": "code",
   "execution_count": 25,
   "id": "662bae7f",
   "metadata": {},
   "outputs": [
    {
     "data": {
      "text/plain": [
       "(2, 1)"
      ]
     },
     "execution_count": 25,
     "metadata": {},
     "output_type": "execute_result"
    }
   ],
   "source": [
    "weights = np.array([[0.1], [0.2]])\n",
    "weights.shape"
   ]
  },
  {
   "cell_type": "code",
   "execution_count": 26,
   "id": "9c178491",
   "metadata": {},
   "outputs": [],
   "source": [
    "#add bias"
   ]
  },
  {
   "cell_type": "code",
   "execution_count": 27,
   "id": "46e08c9c",
   "metadata": {},
   "outputs": [],
   "source": [
    "bias = 0.3"
   ]
  },
  {
   "cell_type": "code",
   "execution_count": 28,
   "id": "1b05ecd4",
   "metadata": {},
   "outputs": [],
   "source": [
    "#activation function"
   ]
  },
  {
   "cell_type": "code",
   "execution_count": 29,
   "id": "261e92a0",
   "metadata": {},
   "outputs": [],
   "source": [
    "def sigmoid_func(x):\n",
    "    return 1/(1+np.exp(-x))"
   ]
  },
  {
   "cell_type": "code",
   "execution_count": 30,
   "id": "cecfa806",
   "metadata": {},
   "outputs": [],
   "source": [
    "#dervative of functions"
   ]
  },
  {
   "cell_type": "code",
   "execution_count": 31,
   "id": "71579f92",
   "metadata": {},
   "outputs": [],
   "source": [
    "def der(x):\n",
    "    return sigmoid_func(x) * (1-sigmoid_func(x))"
   ]
  },
  {
   "cell_type": "code",
   "execution_count": 32,
   "id": "8a567a4d",
   "metadata": {},
   "outputs": [],
   "source": [
    "#updating weights"
   ]
  },
  {
   "cell_type": "code",
   "execution_count": 55,
   "id": "8685ae42",
   "metadata": {},
   "outputs": [
    {
     "name": "stdout",
     "output_type": "stream",
     "text": [
      "[[-0.41210272]\n",
      " [11.2213767 ]]\n",
      "[-5.32019272]\n"
     ]
    }
   ],
   "source": [
    "for epochs in range(10000):\n",
    "    input_arr = input_value\n",
    "    \n",
    "    weighted_sum = np.dot(input_arr,weights) + bias\n",
    "    first_output = sigmoid_func(weighted_sum)\n",
    "    \n",
    "    error = first_output - output\n",
    "    total_error = np.square(np.subtract(first_output,output)).mean()\n",
    "    \n",
    "    first_der = error\n",
    "    sercond_der = der(first_output)\n",
    "    dervative = first_der * sercond_der\n",
    "    \n",
    "    t_input = input_value.T\n",
    "    final_dervative = np.dot(t_input, dervative)\n",
    "    \n",
    "    weights= weights - .05 * final_dervative\n",
    "    \n",
    "    \n",
    "    for i in dervative:\n",
    "        bias = bias - .05 * i\n",
    "        \n",
    "\n",
    "print(weights)\n",
    "print(bias)"
   ]
  },
  {
   "cell_type": "code",
   "execution_count": 58,
   "id": "988b229c",
   "metadata": {},
   "outputs": [
    {
     "name": "stdout",
     "output_type": "stream",
     "text": [
      "[0.00322917]\n"
     ]
    }
   ],
   "source": [
    "pred = np.array([1,0])\n",
    "result = np.dot(pred,weights) + bias\n",
    "res =sigmoid_func(result)\n",
    "print(res)"
   ]
  }
 ],
 "metadata": {
  "kernelspec": {
   "display_name": "Python 3 (ipykernel)",
   "language": "python",
   "name": "python3"
  },
  "language_info": {
   "codemirror_mode": {
    "name": "ipython",
    "version": 3
   },
   "file_extension": ".py",
   "mimetype": "text/x-python",
   "name": "python",
   "nbconvert_exporter": "python",
   "pygments_lexer": "ipython3",
   "version": "3.9.13"
  }
 },
 "nbformat": 4,
 "nbformat_minor": 5
}
